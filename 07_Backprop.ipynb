{
 "cells": [
  {
   "cell_type": "markdown",
   "metadata": {},
   "source": [
    "# Assignment 7: Backpropagation\n",
    "Read the Rojas book (https://page.mi.fu-berlin.de/rojas/neural/neuron.pdf), chapter 7.3.3 and learn about the \"matrix way\" of implementing backprop. \n",
    "\n",
    "## Ex. 7.1 XOR\n",
    "Implement a two-layer artificial neural network with two input neurons and one output neuron. Choose the number of hidden neurons to your liking and add an error \"neuron\" to your network. Our goal is to learn the XOR function. What does the network return for random weights of all combinations of (binary) inputs? **(RESULT)**"
   ]
  },
  {
   "cell_type": "code",
   "execution_count": 1,
   "metadata": {
    "ExecuteTime": {
     "end_time": "2019-12-15T18:34:44.081424Z",
     "start_time": "2019-12-15T18:34:43.771500Z"
    },
    "code_folding": []
   },
   "outputs": [],
   "source": [
    "import numpy as np\n",
    "import matplotlib.pyplot as plt\n",
    "\n",
    "class Linear():\n",
    "    def __init__(self, num_in, num_out):\n",
    "        self.w = np.random.randn(num_in, num_out) * np.sqrt(2. / (num_in + num_out))\n",
    "        self.b = np.random.randn(num_out)\n",
    "\n",
    "    def forward(self, x):\n",
    "        self.input = x\n",
    "        return np.dot(x, self.w) + self.b\n",
    "\n",
    "    def backward(self, error):\n",
    "        prev_err = np.dot(error, self.w.T)\n",
    "        self.b -= LEARNING_RATE * error\n",
    "        self.w -= LEARNING_RATE * np.outer(self.input, error)\n",
    "        return prev_err\n",
    "\n",
    "\n",
    "class Sigmoid():\n",
    "    def forward(self, x):\n",
    "        output = 1.0 / (1.0 + np.exp(-x))\n",
    "        self.output = output\n",
    "        return output\n",
    "\n",
    "    def backward(self, error):\n",
    "        derivative = self.output * (1 - self.output)\n",
    "        return derivative * error\n",
    "\n",
    "\n",
    "class Model():\n",
    "    def __init__(self, layers):\n",
    "        self.layers = layers\n",
    "\n",
    "    def forward(self, x):\n",
    "        for layer in self.layers:\n",
    "            x = layer.forward(x)\n",
    "        return x\n",
    "\n",
    "    def backward(self, err):\n",
    "        for layer in reversed(self.layers):\n",
    "            err = layer.backward(err)\n",
    "        return err"
   ]
  },
  {
   "cell_type": "code",
   "execution_count": 2,
   "metadata": {
    "ExecuteTime": {
     "end_time": "2019-12-15T18:34:44.093139Z",
     "start_time": "2019-12-15T18:34:44.083171Z"
    },
    "code_folding": []
   },
   "outputs": [
    {
     "name": "stdout",
     "output_type": "stream",
     "text": [
      "input  (0, 0) output [0.05851755]\n",
      "input  (0, 1) output [0.05107412]\n",
      "input  (1, 0) output [0.06270694]\n",
      "input  (1, 1) output [0.05210312]\n"
     ]
    }
   ],
   "source": [
    "model = Model([Linear(2, 3), Sigmoid(), Linear(3, 1), Sigmoid()])\n",
    "for x in [(0, 0), (0, 1), (1, 0), (1, 1)]:\n",
    "    pred = model.forward(np.array(x))\n",
    "    print('input ', x, 'output', pred)"
   ]
  },
  {
   "cell_type": "markdown",
   "metadata": {},
   "source": [
    "## Ex. 7.2 Backpropagation\n",
    "Implement Backpropagation and optimize the weights of your neural network using the XOR training set.\n",
    "How many training iterations do you need? Plot the network error over the number of iterations! **(RESULT)**"
   ]
  },
  {
   "cell_type": "code",
   "execution_count": 3,
   "metadata": {
    "ExecuteTime": {
     "end_time": "2019-12-15T18:34:44.352434Z",
     "start_time": "2019-12-15T18:34:44.097133Z"
    },
    "code_folding": []
   },
   "outputs": [
    {
     "data": {
      "image/png": "[encoded data removed]",
      "text/plain": [
       "<Figure size 432x288 with 1 Axes>"
      ]
     },
     "metadata": {
      "needs_background": "light"
     },
     "output_type": "display_data"
    },
    {
     "name": "stdout",
     "output_type": "stream",
     "text": [
      "input  (0, 0) output 0.05487331806806697\n",
      "input  (0, 1) output 0.9507118429373779\n",
      "input  (1, 0) output 0.949636494512182\n",
      "input  (1, 1) output 0.09711177754184225\n"
     ]
    }
   ],
   "source": [
    "def get_XOR():\n",
    "    x = np.random.choice([0, 1], 2)\n",
    "    y = (np.sum(x) == 1) | 0\n",
    "    return np.array(x), np.array(y)\n",
    "\n",
    "model = Model([Linear(2, 3), Sigmoid(), Linear(3, 1), Sigmoid()])\n",
    "\n",
    "LEARNING_RATE = 5\n",
    "errors = []\n",
    "for i in range(1000):\n",
    "    x, y = get_XOR()\n",
    "    pred = model.forward(x)\n",
    "    error = pred - y\n",
    "    model.backward(error)\n",
    "    errors.append(error[0])\n",
    "    \n",
    "plt.plot(errors)\n",
    "plt.show()\n",
    "\n",
    "for x in [(0, 0), (0, 1), (1, 0), (1, 1)]:\n",
    "    pred = model.forward(np.array(x))\n",
    "    print('input ', x, 'output', pred[0])"
   ]
  },
  {
   "cell_type": "markdown",
   "metadata": {},
   "source": [
    "# Ex. 7.3 MNIST (BONUS)\n",
    "Train your network on the [MNIST dataset](http://yann.lecun.com/exdb/mnist/) and state the model accuracy (or the model error) for the training and test sets. **(RESULT)** Compare to this [list](https://rodrigob.github.io/are_we_there_yet/build/classification_datasets_results.html#4d4e495354)\n"
   ]
  },
  {
   "cell_type": "code",
   "execution_count": null,
   "metadata": {},
   "outputs": [],
   "source": []
  }
 ],
 "metadata": {
  "kernelspec": {
   "display_name": "Python 3",
   "language": "python",
   "name": "python3"
  },
  "language_info": {
   "codemirror_mode": {
    "name": "ipython",
    "version": 3
   },
   "file_extension": ".py",
   "mimetype": "text/x-python",
   "name": "python",
   "nbconvert_exporter": "python",
   "pygments_lexer": "ipython3",
   "version": "3.7.4"
  }
 },
 "nbformat": 4,
 "nbformat_minor": 2
}
