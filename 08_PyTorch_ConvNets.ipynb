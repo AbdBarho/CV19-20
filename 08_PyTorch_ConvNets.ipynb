{
 "cells": [
  {
   "cell_type": "markdown",
   "metadata": {},
   "source": [
    "# Assignment 8 & 9\n",
    "\n",
    "## Ex. 8.0\n",
    "We start by installing pytorch, a popular machine learning framework. Go to [pytorch.org](https://pytorch.org/), choose your target system and install pytorch (via conda).\n",
    "\n",
    "You can try pytorch on [Google Colab](https://colab.research.google.com), too. Colab integrates with your Google account, your notebooks will be stored on Google Drive and you can read datasets from there too. You can even use GPUs and TPUs! However, we still suggest you install pytorch on your local computer because variables might get lost when your computer disconnects from the internet or the notebook runs idle for a while.  \n",
    "\n",
    "Browse through the [pytorch tutorials ](https://pytorch.org/tutorials/), they often come as colab notebooks - go and execute some!"
   ]
  },
  {
   "cell_type": "code",
   "execution_count": 1,
   "metadata": {
    "ExecuteTime": {
     "end_time": "2019-12-17T13:03:42.920147Z",
     "start_time": "2019-12-17T13:03:42.290784Z"
    }
   },
   "outputs": [
    {
     "name": "stdout",
     "output_type": "stream",
     "text": [
      "cuda\n"
     ]
    }
   ],
   "source": [
    "import torch\n",
    "import torch.nn as nn\n",
    "import torch.nn.functional as F\n",
    "import matplotlib.pyplot as plt\n",
    "import torch.optim as optim\n",
    "\n",
    "from torchvision.datasets import MNIST\n",
    "from torch.utils.data import DataLoader\n",
    "from torchvision.transforms import ToTensor\n",
    "from tqdm import tqdm_notebook as tqdm\n",
    "%matplotlib inline\n",
    "\n",
    "torch.manual_seed(1)\n",
    "device = torch.device('cuda' if torch.cuda.is_available() else 'cpu')\n",
    "print(device)"
   ]
  },
  {
   "cell_type": "markdown",
   "metadata": {},
   "source": [
    "## Ex. 8.1\n",
    "Make your own convolutionnal network of the following structure : 3 layer of convolution and 2 layer of neurones. We would like to see in it some padding, stride, pooling, drop out and batch normalization. Use the ReLU activation fonction. You should define your network, make a train fonction, a test fonction to display the result and make them work!"
   ]
  },
  {
   "cell_type": "markdown",
   "metadata": {},
   "source": [
    "Setup some hyper-parameter for your network, Now, load MNIST from torch and "
   ]
  },
  {
   "cell_type": "code",
   "execution_count": 2,
   "metadata": {
    "ExecuteTime": {
     "end_time": "2019-12-17T13:03:42.962243Z",
     "start_time": "2019-12-17T13:03:42.922095Z"
    }
   },
   "outputs": [],
   "source": [
    "batch_size = 32\n",
    "\n",
    "train_data = MNIST('./data', train=True, download=True, transform=ToTensor())\n",
    "test_data = MNIST('./data', train=False, download=True, transform=ToTensor())\n",
    "\n",
    "train_loader = DataLoader(train_data, batch_size, shuffle=True)\n",
    "test_loader = DataLoader(test_data, batch_size)"
   ]
  },
  {
   "cell_type": "markdown",
   "metadata": {},
   "source": [
    "Display some instance of the training set"
   ]
  },
  {
   "cell_type": "code",
   "execution_count": 3,
   "metadata": {
    "ExecuteTime": {
     "end_time": "2019-12-17T13:03:43.207341Z",
     "start_time": "2019-12-17T13:03:42.963984Z"
    }
   },
   "outputs": [
    {
     "data": {
      "image/png": "[encoded data removed]",
      "text/plain": [
       "<Figure size 1296x432 with 6 Axes>"
      ]
     },
     "metadata": {
      "needs_background": "light"
     },
     "output_type": "display_data"
    }
   ],
   "source": [
    "_, (example_data, example_targets) = next(enumerate(test_loader))\n",
    "\n",
    "plt.figure(figsize=(18, 6))\n",
    "for i in range(6):\n",
    "    plt.subplot(1, 6, i + 1)\n",
    "    plt.axis(False)\n",
    "    plt.imshow(example_data[i][0], cmap='gray')\n",
    "    plt.title(\"Ground Truth: {}\".format(example_targets[i]))\n",
    "plt.show()"
   ]
  },
  {
   "cell_type": "code",
   "execution_count": 4,
   "metadata": {
    "ExecuteTime": {
     "end_time": "2019-12-17T13:03:43.217306Z",
     "start_time": "2019-12-17T13:03:43.209328Z"
    }
   },
   "outputs": [],
   "source": [
    "def create_model():\n",
    "    return nn.Sequential(nn.Conv2d(1, 8, 3), \n",
    "                         nn.BatchNorm2d(8),\n",
    "                         nn.MaxPool2d(2),\n",
    "                         nn.ReLU(), \n",
    "                         nn.Dropout2d(0.1),\n",
    "                         \n",
    "                         nn.Conv2d(8, 32, 3),\n",
    "                         nn.BatchNorm2d(32), \n",
    "                         nn.MaxPool2d(2), \n",
    "                         nn.ReLU(),\n",
    "                         nn.Dropout2d(0.1),\n",
    "                         \n",
    "                         nn.Conv2d(32, 64, 3),\n",
    "                         nn.BatchNorm2d(64),\n",
    "                         nn.MaxPool2d(2), \n",
    "                         nn.ReLU(),\n",
    "                         nn.Dropout2d(0.1),\n",
    "                         \n",
    "                         nn.Flatten(),\n",
    "                         nn.Linear(64, 64),\n",
    "                         nn.ReLU(), \n",
    "                         nn.Linear(64, 10),\n",
    "                         nn.LogSoftmax(1)\n",
    "                        )"
   ]
  },
  {
   "cell_type": "code",
   "execution_count": 5,
   "metadata": {
    "ExecuteTime": {
     "end_time": "2019-12-17T13:05:24.766962Z",
     "start_time": "2019-12-17T13:03:43.219300Z"
    },
    "scrolled": true
   },
   "outputs": [
    {
     "data": {
      "application/vnd.jupyter.widget-view+json": {
       "model_id": "",
       "version_major": 2,
       "version_minor": 0
      },
      "text/plain": [
       "HBox(children=(IntProgress(value=0, max=3), HTML(value='')))"
      ]
     },
     "metadata": {},
     "output_type": "display_data"
    },
    {
     "data": {
      "application/vnd.jupyter.widget-view+json": {
       "model_id": "",
       "version_major": 2,
       "version_minor": 0
      },
      "text/plain": [
       "HBox(children=(IntProgress(value=0, max=1875), HTML(value='')))"
      ]
     },
     "metadata": {},
     "output_type": "display_data"
    },
    {
     "data": {
      "application/vnd.jupyter.widget-view+json": {
       "model_id": "",
       "version_major": 2,
       "version_minor": 0
      },
      "text/plain": [
       "HBox(children=(IntProgress(value=0, max=1875), HTML(value='')))"
      ]
     },
     "metadata": {},
     "output_type": "display_data"
    },
    {
     "data": {
      "application/vnd.jupyter.widget-view+json": {
       "model_id": "",
       "version_major": 2,
       "version_minor": 0
      },
      "text/plain": [
       "HBox(children=(IntProgress(value=0, max=1875), HTML(value='')))"
      ]
     },
     "metadata": {},
     "output_type": "display_data"
    },
    {
     "name": "stdout",
     "output_type": "stream",
     "text": [
      "\r"
     ]
    },
    {
     "data": {
      "image/png": "[encoded data removed]",
      "text/plain": [
       "<Figure size 432x288 with 1 Axes>"
      ]
     },
     "metadata": {
      "needs_background": "light"
     },
     "output_type": "display_data"
    }
   ],
   "source": [
    "model = create_model().to(device)\n",
    "optimizer = optim.Adam(model.parameters())\n",
    "\n",
    "epoch_bar = tqdm(total=3, leave=False)\n",
    "losses = []\n",
    "for e in range(3):\n",
    "    epoch_bar.update(1)\n",
    "    bar = tqdm(total=len(train_loader), leave=False)\n",
    "    for i, (images, labels) in enumerate(train_loader):\n",
    "        bar.update(1)\n",
    "        images, labels = images.to(device), labels.to(device)\n",
    "        optimizer.zero_grad()\n",
    "        predictions = model(images)\n",
    "        loss = F.nll_loss(predictions, labels)\n",
    "        loss.backward()\n",
    "        losses.append(loss.item())\n",
    "        bar.set_description(str(round(loss.item(), 2)), False)\n",
    "        optimizer.step()\n",
    "    bar.close()\n",
    "    \n",
    "epoch_bar.close()\n",
    "plt.figure()\n",
    "plt.plot(losses)\n",
    "plt.show()       "
   ]
  },
  {
   "cell_type": "code",
   "execution_count": 6,
   "metadata": {
    "ExecuteTime": {
     "end_time": "2019-12-17T13:05:26.892258Z",
     "start_time": "2019-12-17T13:05:24.768945Z"
    }
   },
   "outputs": [
    {
     "name": "stdout",
     "output_type": "stream",
     "text": [
      "Accuracy 0.9773\n"
     ]
    }
   ],
   "source": [
    "correct = 0\n",
    "total = len(test_data)\n",
    "with torch.no_grad():\n",
    "    for i, (images, labels) in enumerate(test_loader):\n",
    "        images, labels = images.to(device), labels.to(device)\n",
    "        predictions = model(images)\n",
    "        matches = (torch.argmax(predictions, 1) == labels).sum().item()\n",
    "        correct += matches\n",
    "print('Accuracy', correct / total)"
   ]
  }
 ],
 "metadata": {
  "kernelspec": {
   "display_name": "Python 3",
   "language": "python",
   "name": "python3"
  },
  "language_info": {
   "codemirror_mode": {
    "name": "ipython",
    "version": 3
   },
   "file_extension": ".py",
   "mimetype": "text/x-python",
   "name": "python",
   "nbconvert_exporter": "python",
   "pygments_lexer": "ipython3",
   "version": "3.7.4"
  }
 },
 "nbformat": 4,
 "nbformat_minor": 2
}
