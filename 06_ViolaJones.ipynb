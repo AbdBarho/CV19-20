{
 "cells": [
  {
   "cell_type": "markdown",
   "metadata": {},
   "source": [
    "# Assignment 6: Viola&Jones\n",
    "Read the paper by Viola and Jones. You can find it in \"mycampus/resources/papers\".\n",
    "\n",
    "## Ex. 5.1 Rectangular Features\n",
    "Implement the construction of all 2-rect features (horizontal and vertical) within a given window (like the 24x24 px window from the paper). How many exist? **(RESULT)** Display three of these overlaid onto an image of a face. **(RESULT)**"
   ]
  },
  {
   "cell_type": "code",
   "execution_count": null,
   "metadata": {
    "ExecuteTime": {
     "end_time": "2019-11-24T16:53:44.509572Z",
     "start_time": "2019-11-24T16:53:39.955540Z"
    }
   },
   "outputs": [],
   "source": []
  },
  {
   "cell_type": "markdown",
   "metadata": {},
   "source": [
    "## Ex. 5.2 Integral Image \n",
    "Implement a function that computes the integral image of a given input image. Display the integral image for an input of you choice **(RESULT)**. Compare it to the output of skimage's integral_image() function. **(RESULT)**"
   ]
  },
  {
   "cell_type": "code",
   "execution_count": null,
   "metadata": {},
   "outputs": [],
   "source": []
  },
  {
   "cell_type": "markdown",
   "metadata": {},
   "source": [
    "# Ex. 5.3 AdaBoosting\n",
    "Implement the AdaBoost algorithm as outlined in the paper. Train a 20-feature classifier using these datasets: \n",
    "    \n",
    "faces:    https://qmul-tinyface.github.io/\n",
    "nonfaces: https://www.cs.toronto.edu/~kriz/cifar.html\n",
    "\n",
    "Test your classifier with different thesholds and visualize the ROC curve **(RESULTS)**"
   ]
  },
  {
   "cell_type": "code",
   "execution_count": 1,
   "metadata": {
    "ExecuteTime": {
     "end_time": "2019-11-24T18:37:25.454224Z",
     "start_time": "2019-11-24T18:37:24.598524Z"
    }
   },
   "outputs": [],
   "source": [
    "import matplotlib.pyplot as plt\n",
    "import numpy as np\n",
    "from torchvision.datasets import CIFAR10\n",
    "from skimage.io import imread_collection\n",
    "from skimage.color import rgb2gray\n",
    "from skimage.transform import resize\n",
    "\n",
    "def process_images(images):\n",
    "    return np.array(list(map(\n",
    "        lambda im: resize(rgb2gray(im), (24, 24), anti_aliasing=True), images\n",
    "    )));\n",
    "    \n",
    "    \n",
    "def get_train_data(size = 7000):\n",
    "    faces = imread_collection('./temp/tinyface/Training_Set/**/*.jpg' )\n",
    "    not_faces = CIFAR10(root='./temp', train=True, download=True)\n",
    "    return process_images(faces[:size]), process_images(not_faces.data[:size])\n",
    "\n",
    "def get_test_data(size = 2000):\n",
    "    faces = imread_collection('./temp/tinyface/Testing_Set/Gallery_Match/*.jpg' )\n",
    "    not_faces = CIFAR10(root='./temp', train=False, download=True)\n",
    "    return process_images(faces[:size]), process_images(not_faces.data[:size])"
   ]
  },
  {
   "cell_type": "code",
   "execution_count": 15,
   "metadata": {
    "ExecuteTime": {
     "end_time": "2019-11-24T18:58:21.747499Z",
     "start_time": "2019-11-24T18:58:21.726552Z"
    }
   },
   "outputs": [
    {
     "data": {
      "text/plain": [
       "array([0.00025, 0.00025, 0.00025, ..., 0.00025, 0.00025, 0.00025])"
      ]
     },
     "execution_count": 15,
     "metadata": {},
     "output_type": "execute_result"
    }
   ],
   "source": [
    "def adaboost(faces, not_faces, iterations=100):\n",
    "    len_faces, len_not_faces = len(faces), len(not_faces)\n",
    "    data = np.concatenate((faces, not_faces))\n",
    "    labels = np.concatenate((np.ones(len_faces), np.zeros(len_not_faces)))\n",
    "    total_len = len(data)\n",
    "    # setup weights\n",
    "    w = np.zeros(total_len)\n",
    "    w[:len_faces] = 1 / len_faces / 2\n",
    "    w[len_not_faces:] = 1 / len_not_faces / 2\n",
    "    # iterate\n",
    "    for i in range(iterations):\n",
    "        # normalize\n",
    "        w = w / w.sum()\n",
    "        # \n",
    "\n",
    "\n",
    "adaboost(faces, not_faces)"
   ]
  },
  {
   "cell_type": "code",
   "execution_count": 2,
   "metadata": {
    "ExecuteTime": {
     "end_time": "2019-11-24T18:37:46.741316Z",
     "start_time": "2019-11-24T18:37:27.655194Z"
    }
   },
   "outputs": [
    {
     "name": "stdout",
     "output_type": "stream",
     "text": [
      "Files already downloaded and verified\n"
     ]
    },
    {
     "data": {
      "text/plain": [
       "((7000, 24, 24), (7000, 24, 24))"
      ]
     },
     "execution_count": 2,
     "metadata": {},
     "output_type": "execute_result"
    }
   ],
   "source": [
    "faces, not_faces = get_train_data()\n",
    "faces.shape, not_faces.shape"
   ]
  },
  {
   "cell_type": "code",
   "execution_count": 3,
   "metadata": {
    "ExecuteTime": {
     "end_time": "2019-11-24T18:37:52.803864Z",
     "start_time": "2019-11-24T18:37:46.743312Z"
    },
    "scrolled": false
   },
   "outputs": [
    {
     "name": "stdout",
     "output_type": "stream",
     "text": [
      "Files already downloaded and verified\n"
     ]
    },
    {
     "data": {
      "text/plain": [
       "((2000, 24, 24), (2000, 24, 24))"
      ]
     },
     "execution_count": 3,
     "metadata": {},
     "output_type": "execute_result"
    }
   ],
   "source": [
    "faces, not_faces = get_test_data()\n",
    "faces.shape, not_faces.shape"
   ]
  }
 ],
 "metadata": {
  "kernelspec": {
   "display_name": "Python 3",
   "language": "python",
   "name": "python3"
  },
  "language_info": {
   "codemirror_mode": {
    "name": "ipython",
    "version": 3
   },
   "file_extension": ".py",
   "mimetype": "text/x-python",
   "name": "python",
   "nbconvert_exporter": "python",
   "pygments_lexer": "ipython3",
   "version": "3.7.4"
  }
 },
 "nbformat": 4,
 "nbformat_minor": 2
}
