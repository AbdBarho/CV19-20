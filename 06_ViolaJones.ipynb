{
 "cells": [
  {
   "cell_type": "markdown",
   "metadata": {},
   "source": [
    "# U6 - Abdullah Barhoum (5041774), Katharina Müller (5284090)"
   ]
  },
  {
   "cell_type": "markdown",
   "metadata": {},
   "source": [
    "# Assignment 6: Viola&Jones\n",
    "Read the paper by Viola and Jones. You can find it in \"mycampus/resources/papers\"."
   ]
  },
  {
   "cell_type": "code",
   "execution_count": 1,
   "metadata": {
    "ExecuteTime": {
     "end_time": "2019-11-26T21:53:47.813190Z",
     "start_time": "2019-11-26T21:53:47.172900Z"
    }
   },
   "outputs": [],
   "source": [
    "import matplotlib.pyplot as plt\n",
    "import numpy as np\n",
    "import os.path as path\n",
    "import gc\n",
    "from time import sleep\n",
    "from skimage.io import imread_collection, imread\n",
    "from skimage.transform import integral_image as sk_integral\n",
    "from skimage.draw import rectangle\n",
    "from tqdm import tqdm_notebook\n",
    "\n",
    "%matplotlib inline"
   ]
  },
  {
   "cell_type": "markdown",
   "metadata": {},
   "source": [
    "## Ex. 5.2 Integral Image \n",
    "Implement a function that computes the integral image of a given input image. Display the integral image for an input of you choice **(RESULT)**. Compare it to the output of skimage's integral_image() function. **(RESULT)**"
   ]
  },
  {
   "cell_type": "code",
   "execution_count": 2,
   "metadata": {
    "ExecuteTime": {
     "end_time": "2019-11-26T21:53:48.148891Z",
     "start_time": "2019-11-26T21:53:47.816183Z"
    }
   },
   "outputs": [
    {
     "data": {
      "image/png": "[encoded data removed]",
      "text/plain": [
       "<Figure size 432x288 with 3 Axes>"
      ]
     },
     "metadata": {
      "needs_background": "light"
     },
     "output_type": "display_data"
    },
    {
     "name": "stdout",
     "output_type": "stream",
     "text": [
      "difference in integrals =  0.0\n"
     ]
    }
   ],
   "source": [
    "def integral_image(im):\n",
    "    H, W = im.shape\n",
    "    integral = np.zeros(im.shape)\n",
    "    for y in range(H):\n",
    "        for x in range(W):\n",
    "            above = 0 if y - 1 < 0 else integral[y - 1, x]\n",
    "            left = 0 if x - 1 < 0 else integral[y, x - 1]\n",
    "            above_left = 0 if y - 1 < 0 or  x - 1 < 0 else integral[y - 1, x - 1]\n",
    "            integral[y, x] = im[y, x] + left + above - above_left\n",
    "    return integral\n",
    "\n",
    "def display_integral():\n",
    "    im = imread('./data/faces/test/face/cmu_0000.pgm')\n",
    "    _, (ax1, ax2, ax3) = plt.subplots(1, 3)\n",
    "    ax1.imshow(im, cmap='gray')\n",
    "    ax1.title.set_text('image')\n",
    "    \n",
    "    our = integral_image(im)\n",
    "    ax2.imshow(our, cmap='gray')\n",
    "    ax2.title.set_text('our integral')\n",
    "    \n",
    "    sk = sk_integral(im)\n",
    "    ax3.imshow(sk, cmap='gray')\n",
    "    ax3.title.set_text('skimage integral')\n",
    "    \n",
    "    plt.show()\n",
    "    print('difference in integrals = ', np.linalg.norm(our - sk))\n",
    "    \n",
    "display_integral()"
   ]
  },
  {
   "cell_type": "markdown",
   "metadata": {},
   "source": [
    "## Ex. 5.1 Rectangular Features\n",
    "Implement the construction of all 2-rect features (horizontal and vertical) within a given window (like the 24x24 px window from the paper). How many exist? **(RESULT)** Display three of these overlaid onto an image of a face. **(RESULT)**"
   ]
  },
  {
   "cell_type": "code",
   "execution_count": 3,
   "metadata": {
    "ExecuteTime": {
     "end_time": "2019-11-26T21:53:48.166840Z",
     "start_time": "2019-11-26T21:53:48.152879Z"
    }
   },
   "outputs": [],
   "source": [
    "class Rect():\n",
    "    \"\"\"\n",
    "    Basic rectangle that calculates values from an integral image\n",
    "    \"\"\"\n",
    "    def __init__(self, y, x, h, w):\n",
    "        self.y, self.x, self.h, self.w = y, x, h, w\n",
    "\n",
    "    def in_box(self, H, W, min_x=0, min_y=0):\n",
    "        return min_x <= self.x < self.x + self.w < W and min_y <= self.y < self.y + self.h < H\n",
    "\n",
    "    def __call__(self, im):\n",
    "        \"\"\"\n",
    "        calculate value from the given integral image\n",
    "        \"\"\"\n",
    "        bottom_right = im[self.y + self.h, self.x + self.w]\n",
    "        bottom_left = im[self.y + self.h, self.x]\n",
    "        top_right = im[self.y, self.x + self.w]\n",
    "        top_left = im[self.y, self.x]\n",
    "        return bottom_right - bottom_left - top_right + top_left\n",
    "\n",
    "\n",
    "class TwoRectFeature():\n",
    "    def __init__(self, plus, minus):\n",
    "        self.plus, self.minus = plus, minus\n",
    "\n",
    "    def __call__(self, im):\n",
    "        return self.plus(im) - self.minus(im)\n",
    "    \n",
    "\n",
    "def generate_features(H=19, W=19, should_print=False):\n",
    "    features = []\n",
    "\n",
    "    def add_feature(rect1, rect2):\n",
    "        if rect1.in_box(H, W) and rect2.in_box(H, W):\n",
    "            features.append(TwoRectFeature(rect1, rect2))\n",
    "\n",
    "    for y in range(H):\n",
    "        for h in range(1, H):\n",
    "            for x in range(W):\n",
    "                for w in range(1, W):\n",
    "                    # horizontal\n",
    "                    first = Rect(y, x, h, w)\n",
    "                    second = Rect(y + h, x, h, w)\n",
    "                    add_feature(first, second)\n",
    "                    # vertical\n",
    "                    second = Rect(y, x + w, h, w)\n",
    "                    add_feature(first, second)\n",
    "    if should_print:\n",
    "        print('num features:', len(features))\n",
    "    return features"
   ]
  },
  {
   "cell_type": "code",
   "execution_count": 4,
   "metadata": {
    "ExecuteTime": {
     "end_time": "2019-11-26T21:53:48.750142Z",
     "start_time": "2019-11-26T21:53:48.170826Z"
    },
    "code_folding": []
   },
   "outputs": [
    {
     "name": "stdout",
     "output_type": "stream",
     "text": [
      "num features: 27702\n"
     ]
    },
    {
     "data": {
      "image/png": "[encoded data removed]",
      "text/plain": [
       "<Figure size 432x288 with 1 Axes>"
      ]
     },
     "metadata": {
      "needs_background": "light"
     },
     "output_type": "display_data"
    }
   ],
   "source": [
    "def display_features():\n",
    "    features = generate_features(should_print=True)\n",
    "    im = imread('./data/faces/test/face/cmu_0000.pgm')\n",
    "    def overlay_rect(rect, color):\n",
    "        y, x, h, w = rect.y, rect.x, rect.h, rect.w\n",
    "        rr, cc = rectangle((y, x), extent=(h, w))\n",
    "        im[rr, cc] = color\n",
    "    \n",
    "    np.random.seed(36)\n",
    "    two_rect_features = np.random.choice(features, 3)\n",
    "    for two_rect in two_rect_features:\n",
    "        overlay_rect(two_rect.plus, 255)\n",
    "        overlay_rect(two_rect.minus, 0)\n",
    "    plt.imshow(im)\n",
    "    plt.show()\n",
    "    \n",
    "display_features()"
   ]
  },
  {
   "cell_type": "markdown",
   "metadata": {},
   "source": [
    "# Ex. 5.3 AdaBoosting\n",
    "Implement the AdaBoost algorithm as outlined in the paper. Train a 20-feature classifier using these datasets: \n",
    "    \n",
    "faces and non-faces:    www.ai.mit.edu/courses/6.899/lectures/faces.tar.gz\n",
    "\n",
    "Test your classifier with different thesholds and visualize the ROC curve **(RESULTS)**"
   ]
  },
  {
   "cell_type": "code",
   "execution_count": 26,
   "metadata": {
    "ExecuteTime": {
     "end_time": "2019-11-26T22:39:50.871584Z",
     "start_time": "2019-11-26T22:39:50.866581Z"
    }
   },
   "outputs": [],
   "source": [
    "ROOT_FOLDER = './data/faces/'\n",
    "def load_folder(*segs, size = None):\n",
    "    p = path.normpath(path.join(ROOT_FOLDER, *segs))\n",
    "    if size is None:\n",
    "        return np.array(imread_collection(p), np.int32)\n",
    "    return np.array(imread_collection(p)[:size], np.int32)\n",
    "\n",
    "def get_train_data():\n",
    "    return load_folder('train/face/*'), load_folder('train/non-face/*')\n",
    "\n",
    "def get_test_data(size=None):\n",
    "    return load_folder('test/face/*', size=size), load_folder('test/non-face/*', size=size)\n",
    "     "
   ]
  },
  {
   "cell_type": "code",
   "execution_count": 6,
   "metadata": {
    "ExecuteTime": {
     "end_time": "2019-11-26T21:53:48.767061Z",
     "start_time": "2019-11-26T21:53:48.759082Z"
    }
   },
   "outputs": [],
   "source": [
    "def calculate_feature_values(features, image):\n",
    "    integral = sk_integral(image)\n",
    "    return np.array(list(map(lambda feature: feature(integral), features)))\n",
    "\n",
    "def get_feature_values(data):\n",
    "    if isinstance(data, tuple):\n",
    "        return tuple(map(get_feature_values, data))\n",
    "    \n",
    "    features = generate_features()\n",
    "    num_data = len(data)\n",
    "    \n",
    "    values = []\n",
    "    for image in tqdm_notebook(data, leave=False):\n",
    "        values.append(calculate_feature_values(features, image))\n",
    "    return np.array(values)"
   ]
  },
  {
   "cell_type": "code",
   "execution_count": 7,
   "metadata": {
    "ExecuteTime": {
     "end_time": "2019-11-26T22:05:12.294091Z",
     "start_time": "2019-11-26T21:53:48.771049Z"
    }
   },
   "outputs": [
    {
     "data": {
      "application/vnd.jupyter.widget-view+json": {
       "model_id": "",
       "version_major": 2,
       "version_minor": 0
      },
      "text/plain": [
       "HBox(children=(IntProgress(value=0, max=2429), HTML(value='')))"
      ]
     },
     "metadata": {},
     "output_type": "display_data"
    },
    {
     "name": "stdout",
     "output_type": "stream",
     "text": [
      "\r"
     ]
    },
    {
     "data": {
      "application/vnd.jupyter.widget-view+json": {
       "model_id": "",
       "version_major": 2,
       "version_minor": 0
      },
      "text/plain": [
       "HBox(children=(IntProgress(value=0, max=4548), HTML(value='')))"
      ]
     },
     "metadata": {},
     "output_type": "display_data"
    },
    {
     "name": "stdout",
     "output_type": "stream",
     "text": [
      "\r"
     ]
    }
   ],
   "source": [
    "faces_values, non_faces_values = get_feature_values(get_train_data())"
   ]
  },
  {
   "cell_type": "code",
   "execution_count": 68,
   "metadata": {
    "ExecuteTime": {
     "end_time": "2019-11-26T23:14:34.830079Z",
     "start_time": "2019-11-26T23:14:34.819049Z"
    }
   },
   "outputs": [],
   "source": [
    "class WeakClassifier():\n",
    "    def __init__(self, feature, p=1, t=0):\n",
    "        self.feature, self.p, self.t = feature, p, t\n",
    "\n",
    "    def __call__(self, image):\n",
    "        feature_value = self.feature(image)\n",
    "        return 1 if self.p * feature_value < self.p * self.t else 0\n",
    "\n",
    "    def _predict_vectorized(self, feature_values):\n",
    "        # faster version of the one above that works on numpy arrays\n",
    "        return np.where(self.p * feature_values < self.p * self.t, 1, 0)\n",
    "\n",
    "    def calculate_error(self, feature_values, labels, weights):\n",
    "        # error = sum of weights of incorrectly classified data\n",
    "        diff = self._predict_vectorized(feature_values) - labels\n",
    "        diff = np.abs(diff)\n",
    "        error = weights[diff == 1].sum()\n",
    "        return error, diff\n",
    "\n",
    "    def find_optimal_params(self, feature_values, labels, weights):\n",
    "        def error():\n",
    "            return self.calculate_error(feature_values, labels, weights)[0]\n",
    "\n",
    "        best_err = float('inf')\n",
    "        best_p, best_t = self.p, self.t\n",
    "\n",
    "        def try_vals(p, t):\n",
    "            nonlocal best_err, best_p, best_t\n",
    "            # we are overriding the values here\n",
    "            # to see which is the best combination\n",
    "            self.p, self.t = p, t\n",
    "            err = error()\n",
    "            if err < best_err:\n",
    "                best_err, best_p, best_t = err, p, t\n",
    "            return err\n",
    "        \n",
    "        \n",
    "        # the total number of distinct thresholds is N\n",
    "        best_err = error()\n",
    "        sort = np.sort(feature_values)\n",
    "        for p in [1, -1]:\n",
    "            last_err = float('inf')\n",
    "            for t in sort:\n",
    "                err = try_vals(p, t)\n",
    "                if err > last_err:\n",
    "                    # the error can only get smaller\n",
    "                    # if it gets bigger then we found the best\n",
    "                    break\n",
    "                last_err = err\n",
    "\n",
    "        # print('found best params', best_p, best_t)\n",
    "        self.p, self.t = best_p, best_t"
   ]
  },
  {
   "cell_type": "code",
   "execution_count": 72,
   "metadata": {
    "ExecuteTime": {
     "end_time": "2019-11-26T23:20:21.173644Z",
     "start_time": "2019-11-26T23:20:21.158683Z"
    },
    "code_folding": []
   },
   "outputs": [],
   "source": [
    "class AdaBoost():\n",
    "    def __init__(self):\n",
    "        self.classifiers= []\n",
    "        self.alphas = np.array([])\n",
    "        \n",
    "    def __call__(self, image):\n",
    "        half_sum_alphas = self.alphas.sum() / 2\n",
    "        weighted_sum = 0\n",
    "        for i, classifier in enumerate(self.classifiers):\n",
    "            weighted_sum += self.alphas[i] * classifier(image)\n",
    "        return 1 if weighted_sum >= half_sum_alphas else 0\n",
    "        \n",
    "    def train(self, faces, not_faces, num_classifiers=20):\n",
    "\n",
    "        len_faces, len_not_faces = len(faces), len(not_faces)\n",
    "        total_len = len_faces + len_not_faces\n",
    "\n",
    "        data = np.concatenate((faces, not_faces))\n",
    "        labels = np.concatenate((np.ones(len_faces), np.zeros(len_not_faces)))\n",
    "\n",
    "        # setup weights\n",
    "        w = np.zeros(total_len)\n",
    "        w[:len_faces] = 1 / len_faces / 2\n",
    "        w[len_faces:] = 1 / len_not_faces / 2\n",
    "\n",
    "        # setup weak classifiers\n",
    "        classifiers = list(map(WeakClassifier, generate_features()))\n",
    "        for i, classifier in enumerate(tqdm_notebook(classifiers, leave=False)):\n",
    "            classifier.find_optimal_params(data[:, i], labels, w)\n",
    "        \n",
    "        # iterate\n",
    "        best_classifiers = []\n",
    "        classifier_alphas = []\n",
    "        for _ in tqdm_notebook(range(num_classifiers), leave=False):\n",
    "\n",
    "            # we had memory problems, this code sucks ass\n",
    "            gc.collect()\n",
    "\n",
    "            # normalize\n",
    "            w = w / w.sum()\n",
    "\n",
    "            # select best weak classifier\n",
    "            index, best_error, predictions = 0, float('inf'), None\n",
    "            for i, classifier in enumerate(tqdm_notebook(classifiers, leave=False)):\n",
    "                # take the feature values for that specific classifier\n",
    "                error, preds = classifier.calculate_error(data[:, i], labels, w)\n",
    "                if error < best_error:\n",
    "                    index, best_error, predictions = i, error, preds\n",
    "\n",
    "            # save classifier to the list and remove from the curret pool\n",
    "            best = classifiers.pop(index)\n",
    "            best_classifiers.append(best)\n",
    "\n",
    "            # find optimal parameters\n",
    "            best.find_optimal_params(data[:, index], labels, w)\n",
    "\n",
    "            # remove the feature values of the removed classifier\n",
    "            data = np.delete(data, index, 1)\n",
    "\n",
    "            # update weights\n",
    "            beta = best_error / (1 - best_error)\n",
    "\n",
    "            # only correctly classified values\n",
    "            w[predictions == 0] *= beta\n",
    "\n",
    "            # add alpha\n",
    "            classifier_alphas.append(np.log2(1 / beta))\n",
    "\n",
    "        gc.collect()\n",
    "        self.classifiers=best_classifiers\n",
    "        self.alphas = np.array(classifier_alphas)"
   ]
  },
  {
   "cell_type": "code",
   "execution_count": null,
   "metadata": {
    "ExecuteTime": {
     "end_time": "2019-11-26T23:25:44.935774Z",
     "start_time": "2019-11-26T23:20:23.607967Z"
    }
   },
   "outputs": [],
   "source": [
    "adaboost = AdaBoost()\n",
    "adaboost.train(faces_values, non_faces_values, 20)"
   ]
  },
  {
   "cell_type": "code",
   "execution_count": 41,
   "metadata": {
    "ExecuteTime": {
     "end_time": "2019-11-26T22:49:29.292806Z",
     "start_time": "2019-11-26T22:49:29.285823Z"
    }
   },
   "outputs": [
    {
     "data": {
      "text/plain": [
       "array([1.52748234, 1.15480242, 0.87177028, 0.82432345, 0.70866304])"
      ]
     },
     "execution_count": 41,
     "metadata": {},
     "output_type": "execute_result"
    }
   ],
   "source": [
    "adaboost.alphas"
   ]
  },
  {
   "cell_type": "code",
   "execution_count": null,
   "metadata": {
    "ExecuteTime": {
     "end_time": "2019-11-26T22:48:50.128091Z",
     "start_time": "2019-11-26T22:48:42.373305Z"
    }
   },
   "outputs": [],
   "source": [
    "def test():\n",
    "    faces, non_faces = get_test_data(400)\n",
    "    total = len(faces) + len(non_faces)\n",
    "    correct = 0\n",
    "    for f in faces:\n",
    "        correct +=  (adaboost(f) == 1) | 0\n",
    "    for f in non_faces:\n",
    "        correct +=  (adaboost(f) == 0) | 0\n",
    "    print('correct', correct)\n",
    "    print('accuracy', correct/total)\n",
    "    \n",
    "test()"
   ]
  }
 ],
 "metadata": {
  "kernelspec": {
   "display_name": "Python 3",
   "language": "python",
   "name": "python3"
  },
  "language_info": {
   "codemirror_mode": {
    "name": "ipython",
    "version": 3
   },
   "file_extension": ".py",
   "mimetype": "text/x-python",
   "name": "python",
   "nbconvert_exporter": "python",
   "pygments_lexer": "ipython3",
   "version": "3.7.4"
  }
 },
 "nbformat": 4,
 "nbformat_minor": 2
}
