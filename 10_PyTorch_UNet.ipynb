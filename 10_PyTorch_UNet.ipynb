{
 "cells": [
  {
   "cell_type": "markdown",
   "metadata": {},
   "source": [
    "# U10 - Abdullah Barhoum (5041774), Katharina Müller (5284090)\n"
   ]
  },
  {
   "cell_type": "markdown",
   "metadata": {},
   "source": [
    "# Assignment 10 - UNet\n",
    "\n",
    "In this assignement we are going to program our own UNet network (https://arxiv.org/pdf/1505.04597.pdf) which is a simple but powerful one. This network is made to produce a segmentation map. This segmentation map can be a little bit smaller than the true map but keep the same spatial structure. This map however is composed of several layers, one per class. The goal for the network is to activate pixel-wisely a layer if the pixel are representing the object of the layer."
   ]
  },
  {
   "cell_type": "code",
   "execution_count": 1,
   "metadata": {
    "ExecuteTime": {
     "end_time": "2020-01-14T11:40:04.747538Z",
     "start_time": "2020-01-14T11:40:04.732578Z"
    }
   },
   "outputs": [
    {
     "data": {
      "text/html": [
       "<img src=\"https://lmb.informatik.uni-freiburg.de/people/ronneber/u-net/u-net-architecture.png\" width=\"700\"/>"
      ],
      "text/plain": [
       "<IPython.core.display.Image object>"
      ]
     },
     "execution_count": 1,
     "metadata": {},
     "output_type": "execute_result"
    }
   ],
   "source": [
    "from IPython.display import Image\n",
    "from IPython.core.display import HTML \n",
    "Image(url= \"https://lmb.informatik.uni-freiburg.de/people/ronneber/u-net/u-net-architecture.png\", width=700)"
   ]
  },
  {
   "cell_type": "markdown",
   "metadata": {},
   "source": [
    "The network look this way. The descending part is simply made out of convolution layer and pooling, easy peasy. This part of the network allow a move from the \"Where?\" information to the \"What?\" information. Then the informations are spatially dilated through a so called \"transpose convolution\" looking like a convoltuion mixed with an inverse pooling and then you convolute. as I sayed above, there is one layer of exit per class, don't trust the drawing, the initial version of this network was only design to say yes or not (That why there is two output layer)"
   ]
  },
  {
   "cell_type": "code",
   "execution_count": 2,
   "metadata": {
    "ExecuteTime": {
     "end_time": "2020-01-14T11:40:04.755516Z",
     "start_time": "2020-01-14T11:40:04.749599Z"
    }
   },
   "outputs": [
    {
     "data": {
      "text/html": [
       "<img src=\"https://miro.medium.com/max/3200/0*mk6U6zQDuoQLK7Ca\" width=\"700\"/>"
      ],
      "text/plain": [
       "<IPython.core.display.Image object>"
      ]
     },
     "execution_count": 2,
     "metadata": {},
     "output_type": "execute_result"
    }
   ],
   "source": [
    "Image(url= \"https://miro.medium.com/max/3200/0*mk6U6zQDuoQLK7Ca\", width=700)"
   ]
  },
  {
   "cell_type": "markdown",
   "metadata": {},
   "source": [
    "After each big step of convolution, the informations are stacked to the last part of the network (grey arrow) reinjecting this way the \"Where?\" information.\n",
    "\n",
    "# 8.1\n",
    "\n",
    "Yo have to reproduce this network by yourself. The images takken for this work come from the PascalVOC database (http://host.robots.ox.ac.uk/pascal/VOC/). Here you inject RGB images into your network and out a \"cube\" of maps. The label of the data are on the shape of images with one channel, the background is represented by 0 and the differents class by a unique label (all the pixel filled out of ones are representing a plan typically.)\n",
    "\n",
    "You have to use dtype=torch.float32 for the images and dtype=torch.long for the mask and every thing should run perfectly. Use also the criterion to use should be criterion = nn.CrossEntropyLoss() because he can understand the type of label injected (https://pytorch.org/docs/stable/nn.html#torch.nn.CrossEntropyLoss). \n",
    "\n",
    "Try to work on this early, the training can be slow (like 1h for 50 epoch ; batch : 100)"
   ]
  },
  {
   "cell_type": "code",
   "execution_count": 1,
   "metadata": {
    "ExecuteTime": {
     "end_time": "2020-01-14T12:06:59.735632Z",
     "start_time": "2020-01-14T12:06:58.599555Z"
    }
   },
   "outputs": [],
   "source": [
    "import numpy as np\n",
    "import sys\n",
    "np.set_printoptions(threshold=sys.maxsize)\n",
    "import torch\n",
    "import torchvision\n",
    "import torch.nn as nn\n",
    "from torch import optim\n",
    "import torch.nn.functional as F\n",
    "from tqdm import tqdm\n",
    "from torch.autograd import Function\n",
    "from torch.utils.data import DataLoader, random_split\n",
    "from matplotlib import pyplot as plt\n",
    "from PIL import Image"
   ]
  },
  {
   "cell_type": "code",
   "execution_count": 2,
   "metadata": {
    "ExecuteTime": {
     "end_time": "2020-01-14T12:06:59.752420Z",
     "start_time": "2020-01-14T12:06:59.742475Z"
    }
   },
   "outputs": [],
   "source": [
    "class VOCSegLoader(torchvision.datasets.VOCSegmentation):\n",
    "    def __getitem__(self, index):\n",
    "        \"\"\"\n",
    "        Args:\n",
    "            index (int): Index\n",
    "\n",
    "        Returns:\n",
    "            tuple: (image, target) where target is the image segmentation.\n",
    "        \"\"\"\n",
    "        img = Image.open(self.images[index]).convert('RGB')\n",
    "        target = Image.open(self.masks[index])\n",
    "        \n",
    "        if self.transforms is not None:\n",
    "            img, target = self.transforms(img, target)\n",
    "        \n",
    "        target = np.array(target)\n",
    "        target[target == 255] = 0\n",
    "        labels = np.zeros((21, *target.shape))\n",
    "        for i in range(21):\n",
    "            labels[i] = (target == i) & 1\n",
    "                \n",
    "        labels = torch.as_tensor(np.asarray(labels, dtype=np.uint8), dtype=torch.uint8)\n",
    "        return img, labels"
   ]
  },
  {
   "cell_type": "code",
   "execution_count": 3,
   "metadata": {
    "ExecuteTime": {
     "end_time": "2020-01-14T12:09:58.534323Z",
     "start_time": "2020-01-14T12:07:02.797300Z"
    }
   },
   "outputs": [
    {
     "name": "stdout",
     "output_type": "stream",
     "text": [
      "Using downloaded and verified file: ./data\\VOCtrainval_11-May-2012.tar\n",
      "Using downloaded and verified file: ./data\\VOCtrainval_11-May-2012.tar\n"
     ]
    }
   ],
   "source": [
    "n_epochs = 3\n",
    "batch_size_train = 100\n",
    "batch_size_val = 100\n",
    "learning_rate = 0.001\n",
    "momentum = 0.9\n",
    "log_interval = 10\n",
    "image_size = (64, 85)\n",
    "\n",
    "\n",
    "transform_data = torchvision.transforms.Compose([torchvision.transforms.Resize(image_size), \n",
    "                                                 torchvision.transforms.ToTensor()])\n",
    "transform_label = torchvision.transforms.Compose([torchvision.transforms.Resize(image_size, interpolation=0)])\n",
    "\n",
    "\n",
    "train_dataset = VOCSegLoader('./data', year='2012', image_set='train', download=True,\n",
    "                                         transform=transform_data, target_transform=transform_label)\n",
    "val_dataset = VOCSegLoader('./data', year='2012', image_set='val', download=True,\n",
    "                                         transform=transform_data , target_transform=transform_label)\n",
    "\n",
    "\n",
    "train_loader = torch.utils.data.DataLoader(train_dataset, batch_size = batch_size_train)\n",
    "val_loader = torch.utils.data.DataLoader(val_dataset, batch_size = batch_size_val)"
   ]
  },
  {
   "cell_type": "code",
   "execution_count": 5,
   "metadata": {
    "ExecuteTime": {
     "end_time": "2020-01-14T12:10:15.973663Z",
     "start_time": "2020-01-14T12:10:15.950724Z"
    }
   },
   "outputs": [
    {
     "name": "stdout",
     "output_type": "stream",
     "text": [
      "<class 'torch.Tensor'> torch.Size([3, 64, 85])\n",
      "<class 'torch.Tensor'> torch.Size([21, 64, 85])\n"
     ]
    },
    {
     "data": {
      "text/plain": [
       "<Figure size 432x288 with 0 Axes>"
      ]
     },
     "metadata": {},
     "output_type": "display_data"
    }
   ],
   "source": [
    "image, target = train_dataset[0]\n",
    "print(type(image), image.size())\n",
    "print(type(target), target.size())\n",
    "\n",
    "plt.figure()\n",
    "# plt.imshow(np.asarray(image))\n",
    "plt.show()\n",
    "\n",
    "def imshow(inp, title=None):\n",
    "    inp = inp.numpy().transpose((1, 2, 0))\n",
    "    plt.figure(figsize=(20, 20))\n",
    "    plt.axis('off')\n",
    "    plt.imshow(inp)\n",
    "    if title is not None:\n",
    "        plt.title(title)\n",
    "\n",
    "def show_databatch(inputs):\n",
    "    out = torchvision.utils.make_grid(inputs)\n",
    "    imshow(out)"
   ]
  },
  {
   "cell_type": "code",
   "execution_count": 11,
   "metadata": {
    "ExecuteTime": {
     "end_time": "2020-01-14T12:11:07.244003Z",
     "start_time": "2020-01-14T12:11:07.238051Z"
    },
    "scrolled": true
   },
   "outputs": [
    {
     "data": {
      "text/plain": [
       "0"
      ]
     },
     "execution_count": 11,
     "metadata": {},
     "output_type": "execute_result"
    }
   ],
   "source": [
    "target.numpy()[8].sum()b"
   ]
  },
  {
   "cell_type": "code",
   "execution_count": 13,
   "metadata": {
    "ExecuteTime": {
     "end_time": "2020-01-14T12:13:06.999992Z",
     "start_time": "2020-01-14T12:13:06.994038Z"
    }
   },
   "outputs": [
    {
     "data": {
      "text/plain": [
       "128"
      ]
     },
     "execution_count": 13,
     "metadata": {},
     "output_type": "execute_result"
    }
   ],
   "source": [
    "sys.getsizeof(target.numpy())"
   ]
  },
  {
   "cell_type": "code",
   "execution_count": null,
   "metadata": {},
   "outputs": [],
   "source": [
    "#TODO\n",
    "def create_block(c1, c2, c3):\n",
    "    return nn.Sequential(\n",
    "        nn.Conv2d(c1, c2, 3, stride=1, padding=1),\n",
    "        nn.ReLU(),\n",
    "        nn.Conv2d(c2, c3, 3, stride=1, padding=1),\n",
    "        nn.ReLU()\n",
    "    )\n",
    "    \n",
    "class UNet(nn.Module):\n",
    "    def __init__(self):\n",
    "        super(UNet, self).__init__()\n",
    "        self.conv1 = create_block(3, 16, 16)\n",
    "        self.conv2 = create_block(16, 32, 32)\n",
    "        self.conv3 = create_block(32, 64, 64)\n",
    "        self.conv4 = create_block(64, 128, 128)\n",
    "        self.conv5 = create_block(128, 256, 256)\n",
    "        \n",
    "        self.tconv1 = nn.ConvTranspose2d(256, 128, 4, 2, 1, bias=False)\n",
    "        self.tconv2 = nn.ConvTranspose2d(256, 128, 4, 2, 1, bias=False)\n",
    "        self.tconv3 = nn.ConvTranspose2d(256, 128, 4, 2, 1, bias=False)\n",
    "        self.tconv4 = nn.ConvTranspose2d(256, 128, 4, 2, 1, bias=False)\n",
    "    \n",
    "    def forward(img):\n",
    "        x1 = self.conv1(img)\n",
    "        x2 = self.conv2(nn.functional.max_pool2d(x1))\n",
    "        x3 = self.conv3(nn.functional.max_pool2d(x2))\n",
    "        x4 = self.conv4(nn.functional.max_pool2d(x3))\n",
    "        x5 = self.conv5(nn.functional.max_pool2d(x4))\n",
    "        "
   ]
  },
  {
   "cell_type": "markdown",
   "metadata": {},
   "source": [
    "## 8.2\n",
    "Once you have done that, we want you to redesign a network where you remove to reinjection link (grey arrow on the drawing). You can remove the both from your choice just try and tell us if it's still working and why."
   ]
  },
  {
   "cell_type": "code",
   "execution_count": null,
   "metadata": {},
   "outputs": [],
   "source": [
    "#TODO"
   ]
  },
  {
   "cell_type": "markdown",
   "metadata": {},
   "source": [
    "## 8.3 BONUSTOCOME"
   ]
  },
  {
   "cell_type": "code",
   "execution_count": null,
   "metadata": {},
   "outputs": [],
   "source": []
  }
 ],
 "metadata": {
  "kernelspec": {
   "display_name": "Python 3",
   "language": "python",
   "name": "python3"
  },
  "language_info": {
   "codemirror_mode": {
    "name": "ipython",
    "version": 3
   },
   "file_extension": ".py",
   "mimetype": "text/x-python",
   "name": "python",
   "nbconvert_exporter": "python",
   "pygments_lexer": "ipython3",
   "version": "3.7.4"
  }
 },
 "nbformat": 4,
 "nbformat_minor": 2
}
