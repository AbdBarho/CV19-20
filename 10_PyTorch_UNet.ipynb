{
 "cells": [
  {
   "cell_type": "markdown",
   "metadata": {},
   "source": [
    "# U10 - Abdullah Barhoum (5041774), Katharina Müller (5284090)\n"
   ]
  },
  {
   "cell_type": "markdown",
   "metadata": {},
   "source": [
    "# Assignment 10 - UNet\n",
    "\n",
    "In this assignement we are going to program our own UNet network (https://arxiv.org/pdf/1505.04597.pdf) which is a simple but powerful one. This network is made to produce a segmentation map. This segmentation map can be a little bit smaller than the true map but keep the same spatial structure. This map however is composed of several layers, one per class. The goal for the network is to activate pixel-wisely a layer if the pixel are representing the object of the layer."
   ]
  },
  {
   "cell_type": "code",
   "execution_count": 1,
   "metadata": {
    "ExecuteTime": {
     "end_time": "2020-01-15T15:51:40.236529Z",
     "start_time": "2020-01-15T15:51:40.223588Z"
    }
   },
   "outputs": [
    {
     "data": {
      "text/html": [
       "<img src=\"https://lmb.informatik.uni-freiburg.de/people/ronneber/u-net/u-net-architecture.png\" width=\"700\"/>"
      ],
      "text/plain": [
       "<IPython.core.display.Image object>"
      ]
     },
     "execution_count": 1,
     "metadata": {},
     "output_type": "execute_result"
    }
   ],
   "source": [
    "from IPython.display import Image\n",
    "from IPython.core.display import HTML \n",
    "Image(url= \"https://lmb.informatik.uni-freiburg.de/people/ronneber/u-net/u-net-architecture.png\", width=700)"
   ]
  },
  {
   "cell_type": "markdown",
   "metadata": {},
   "source": [
    "The network look this way. The descending part is simply made out of convolution layer and pooling, easy peasy. This part of the network allow a move from the \"Where?\" information to the \"What?\" information. Then the informations are spatially dilated through a so called \"transpose convolution\" looking like a convoltuion mixed with an inverse pooling and then you convolute. as I sayed above, there is one layer of exit per class, don't trust the drawing, the initial version of this network was only design to say yes or not (That why there is two output layer)"
   ]
  },
  {
   "cell_type": "code",
   "execution_count": 2,
   "metadata": {
    "ExecuteTime": {
     "end_time": "2020-01-15T15:51:40.249494Z",
     "start_time": "2020-01-15T15:51:40.238524Z"
    }
   },
   "outputs": [
    {
     "data": {
      "text/html": [
       "<img src=\"https://miro.medium.com/max/3200/0*mk6U6zQDuoQLK7Ca\" width=\"700\"/>"
      ],
      "text/plain": [
       "<IPython.core.display.Image object>"
      ]
     },
     "execution_count": 2,
     "metadata": {},
     "output_type": "execute_result"
    }
   ],
   "source": [
    "Image(url= \"https://miro.medium.com/max/3200/0*mk6U6zQDuoQLK7Ca\", width=700)"
   ]
  },
  {
   "cell_type": "markdown",
   "metadata": {},
   "source": [
    "After each big step of convolution, the informations are stacked to the last part of the network (grey arrow) reinjecting this way the \"Where?\" information.\n",
    "\n",
    "# 8.1\n",
    "\n",
    "Yo have to reproduce this network by yourself. The images takken for this work come from the PascalVOC database (http://host.robots.ox.ac.uk/pascal/VOC/). Here you inject RGB images into your network and out a \"cube\" of maps. The label of the data are on the shape of images with one channel, the background is represented by 0 and the differents class by a unique label (all the pixel filled out of ones are representing a plan typically.)\n",
    "\n",
    "You have to use dtype=torch.float32 for the images and dtype=torch.long for the mask and every thing should run perfectly. Use also the criterion to use should be criterion = nn.CrossEntropyLoss() because he can understand the type of label injected (https://pytorch.org/docs/stable/nn.html#torch.nn.CrossEntropyLoss). \n",
    "\n",
    "Try to work on this early, the training can be slow (like 1h for 50 epoch ; batch : 100)"
   ]
  },
  {
   "cell_type": "code",
   "execution_count": 1,
   "metadata": {
    "ExecuteTime": {
     "end_time": "2020-01-15T17:05:35.178018Z",
     "start_time": "2020-01-15T17:05:34.583742Z"
    }
   },
   "outputs": [],
   "source": [
    "import numpy as np\n",
    "import sys\n",
    "np.set_printoptions(threshold=sys.maxsize)\n",
    "import torch\n",
    "import torchvision\n",
    "import torch.nn as nn\n",
    "from torch import optim\n",
    "import torch.nn.functional as F\n",
    "from tqdm import tqdm_notebook as tqdm\n",
    "from torch.autograd import Function\n",
    "from torch.utils.data import DataLoader, random_split\n",
    "from matplotlib import pyplot as plt\n",
    "from PIL import Image"
   ]
  },
  {
   "cell_type": "code",
   "execution_count": 2,
   "metadata": {
    "ExecuteTime": {
     "end_time": "2020-01-15T17:05:35.972926Z",
     "start_time": "2020-01-15T17:05:35.966957Z"
    },
    "code_folding": [
     0
    ]
   },
   "outputs": [],
   "source": [
    "class VOCSegLoader(torchvision.datasets.VOCSegmentation):\n",
    "    def __getitem__(self, index):\n",
    "        \"\"\"\n",
    "        Args:\n",
    "            index (int): Index\n",
    "\n",
    "        Returns:\n",
    "            tuple: (image, target) where target is the image segmentation.\n",
    "        \"\"\"\n",
    "        img = Image.open(self.images[index]).convert('RGB')\n",
    "        target = Image.open(self.masks[index])\n",
    "        \n",
    "        target = np.array(target)\n",
    "        target[target == 255] = 0\n",
    "        target = Image.fromarray(target)\n",
    "        \n",
    "        if self.transforms is not None:\n",
    "            img, target = self.transforms(img, target)\n",
    "        \n",
    "        target = torch.as_tensor(np.asarray(target, dtype=np.uint8), dtype=torch.long)\n",
    "        return img, target"
   ]
  },
  {
   "cell_type": "code",
   "execution_count": 3,
   "metadata": {
    "ExecuteTime": {
     "end_time": "2020-01-15T17:05:38.188910Z",
     "start_time": "2020-01-15T17:05:38.156000Z"
    }
   },
   "outputs": [],
   "source": [
    "batch_size_train = 100\n",
    "batch_size_val = 100\n",
    "image_size = (64, 80)\n",
    "\n",
    "transform_data = torchvision.transforms.Compose([torchvision.transforms.Resize(image_size), \n",
    "                                                 torchvision.transforms.ToTensor()])\n",
    "transform_label = torchvision.transforms.Compose([torchvision.transforms.Resize(image_size, interpolation=0)])\n",
    "\n",
    "\n",
    "train_dataset = VOCSegLoader('./data', year='2012', image_set='train', download=False,\n",
    "                                         transform=transform_data, target_transform=transform_label)\n",
    "val_dataset = VOCSegLoader('./data', year='2012', image_set='val', download=False,\n",
    "                                         transform=transform_data , target_transform=transform_label)\n",
    "\n",
    "\n",
    "train_loader = torch.utils.data.DataLoader(train_dataset, batch_size = batch_size_train)\n",
    "val_loader = torch.utils.data.DataLoader(val_dataset, batch_size = batch_size_val)"
   ]
  },
  {
   "cell_type": "code",
   "execution_count": 18,
   "metadata": {
    "ExecuteTime": {
     "end_time": "2020-01-15T17:17:14.542914Z",
     "start_time": "2020-01-15T17:17:14.373393Z"
    },
    "code_folding": []
   },
   "outputs": [
    {
     "name": "stdout",
     "output_type": "stream",
     "text": [
      "<class 'torch.Tensor'> torch.Size([3, 64, 80])\n",
      "<class 'torch.Tensor'> torch.Size([64, 80])\n"
     ]
    },
    {
     "data": {
      "text/plain": [
       "<matplotlib.image.AxesImage at 0x1e8aa1e5488>"
      ]
     },
     "execution_count": 18,
     "metadata": {},
     "output_type": "execute_result"
    },
    {
     "data": {
      "image/png": "[encoded data removed]",
      "text/plain": [
       "<Figure size 432x288 with 1 Axes>"
      ]
     },
     "metadata": {
      "needs_background": "light"
     },
     "output_type": "display_data"
    }
   ],
   "source": [
    "#\n",
    "image, target = train_dataset[2]\n",
    "print(type(image), image.size())\n",
    "print(type(target), target.size())\n",
    "\n",
    "\n",
    "def imshow(inp, cmap=None):\n",
    "    inp = inp.numpy().transpose((1, 2, 0))\n",
    "    plt.figure(figsize=(20, 20))\n",
    "    plt.axis('off')\n",
    "    plt.imshow(inp, cmap=cmap)\n",
    "\n",
    "def show_databatch(inputs):\n",
    "    out = torchvision.utils.make_grid(inputs)\n",
    "    imshow(out)\n",
    "    \n",
    "\n",
    "plt.imshow(target.numpy(), cmap='gray')"
   ]
  },
  {
   "cell_type": "code",
   "execution_count": 5,
   "metadata": {
    "ExecuteTime": {
     "end_time": "2020-01-15T17:05:51.392869Z",
     "start_time": "2020-01-15T17:05:51.377907Z"
    },
    "code_folding": []
   },
   "outputs": [],
   "source": [
    "def create_block(c1, c2, c3 = None, sigmoid=False):\n",
    "    if c3 == None:\n",
    "        c3 = c2\n",
    "    return nn.Sequential(\n",
    "        nn.Conv2d(c1, c2, 3, stride=1, padding=1),\n",
    "        nn.ReLU(),\n",
    "        nn.Conv2d(c2, c3, 3, stride=1, padding=1),\n",
    "        nn.Sigmoid() if sigmoid else nn.ReLU()\n",
    "    )\n",
    "    \n",
    "class UNet(nn.Module):\n",
    "    def __init__(self):\n",
    "        super(UNet, self).__init__()\n",
    "        self.conv1 = create_block(3, 21)\n",
    "        self.conv2 = create_block(21, 42)\n",
    "        self.conv3 = create_block(42, 84)\n",
    "        self.conv4 = create_block(84, 168)\n",
    "        \n",
    "        self.conv5 = create_block(168, 336)\n",
    "        \n",
    "        self.tconv1 = nn.ConvTranspose2d(336, 168, 4, 2, 1)\n",
    "        self.tblock1 = create_block(336, 168)\n",
    "        \n",
    "        self.tconv2 = nn.ConvTranspose2d(168, 84, 4, 2, 1)\n",
    "        self.tblock2 = create_block(168, 84)\n",
    "        \n",
    "        self.tconv3 = nn.ConvTranspose2d(84, 42, 4, 2, 1)\n",
    "        self.tblock3 = create_block(84, 42)\n",
    "        \n",
    "        self.tconv4 = nn.ConvTranspose2d(42, 21, 4, 2, 1)\n",
    "        self.tblock4 = create_block(42, 21, sigmoid=True)\n",
    "\n",
    "    def forward(self, img):\n",
    "        x1 = self.conv1(img)\n",
    "        x2 = self.conv2(F.max_pool2d(x1, 2))\n",
    "        x3 = self.conv3(F.max_pool2d(x2, 2))\n",
    "        x4 = self.conv4(F.max_pool2d(x3, 2))\n",
    "        x5 = self.conv5(F.max_pool2d(x4, 2))\n",
    "        \n",
    "        x4_2 = self.tblock1(torch.cat((x4, self.tconv1(x5))  , dim=1))\n",
    "        x3_2 = self.tblock2(torch.cat((x3, self.tconv2(x4_2)), dim=1))\n",
    "        x2_2 = self.tblock3(torch.cat((x2, self.tconv3(x3_2)), dim=1))\n",
    "        x1_2 = self.tblock4(torch.cat((x1, self.tconv4(x2_2)), dim=1))\n",
    "        \n",
    "        return x1_2"
   ]
  },
  {
   "cell_type": "code",
   "execution_count": 38,
   "metadata": {
    "ExecuteTime": {
     "end_time": "2020-01-15T17:36:11.253215Z",
     "start_time": "2020-01-15T17:34:42.872114Z"
    }
   },
   "outputs": [
    {
     "data": {
      "application/vnd.jupyter.widget-view+json": {
       "model_id": "",
       "version_major": 2,
       "version_minor": 0
      },
      "text/plain": [
       "HBox(children=(IntProgress(value=0, max=10), HTML(value='')))"
      ]
     },
     "metadata": {},
     "output_type": "display_data"
    },
    {
     "name": "stdout",
     "output_type": "stream",
     "text": [
      "\r"
     ]
    },
    {
     "data": {
      "image/png": "[encoded data removed]",
      "text/plain": [
       "<Figure size 432x288 with 1 Axes>"
      ]
     },
     "metadata": {
      "needs_background": "light"
     },
     "output_type": "display_data"
    }
   ],
   "source": [
    "device = torch.device('cuda' if torch.cuda.is_available() else 'cpu')\n",
    "# device = torch.device('cpu')\n",
    "model =  UNet().to(device)\n",
    "optimizer = optim.Adam(model.parameters(), 1e-4)\n",
    "lossCrit = nn.CrossEntropyLoss()\n",
    "\n",
    "losses = []\n",
    "epoches= 10\n",
    "for e in tqdm(range(epoches), leave=False):\n",
    "    for i, (images, labels) in enumerate(train_loader):\n",
    "        images, labels = images.to(device), labels.to(device)\n",
    "        optimizer.zero_grad()\n",
    "        predictions = model(images)\n",
    "        loss = lossCrit(predictions, labels)\n",
    "        loss.backward()\n",
    "        losses.append(loss.item())\n",
    "        optimizer.step()\n",
    "    \n",
    "plt.figure()\n",
    "plt.plot(losses)\n",
    "plt.show() "
   ]
  },
  {
   "cell_type": "code",
   "execution_count": 47,
   "metadata": {
    "ExecuteTime": {
     "end_time": "2020-01-15T17:45:32.081228Z",
     "start_time": "2020-01-15T17:45:31.903703Z"
    }
   },
   "outputs": [
    {
     "data": {
      "text/plain": [
       "<matplotlib.image.AxesImage at 0x1e8b3aa2808>"
      ]
     },
     "execution_count": 47,
     "metadata": {},
     "output_type": "execute_result"
    },
    {
     "data": {
      "image/png": "[encoded data removed]",
      "text/plain": [
       "<Figure size 432x288 with 1 Axes>"
      ]
     },
     "metadata": {
      "needs_background": "light"
     },
     "output_type": "display_data"
    }
   ],
   "source": [
    "def plot_classes(predictions):\n",
    "    plt.figure(figsize=(20, 8))\n",
    "    plt.tight_layout()\n",
    "    im = torchvision.utils.make_grid(predictions.reshape(-1, 1, *image_size))\n",
    "    imshow(im, 'gray')\n",
    "    plt.show()\n",
    "# plt.imshow(predictions[0].cpu().detach().numpy()[20], cmap='gray')\n",
    "\n",
    "# predictions.detach().cpu()[0]\n",
    "# plt.imshow(predictions.detach().cpu().numpy()[0].argmax(axis=0), cmap='gray')\n",
    "# plot_classes(predictions.detach().cpu()[0])\n",
    "# labels.detach().cpu()[0].numpy()\n",
    "# plt.imshow(labels.detach().cpu()[0].numpy())\n",
    "# show_databatch(images[0].cpu())"
   ]
  },
  {
   "cell_type": "code",
   "execution_count": 33,
   "metadata": {
    "ExecuteTime": {
     "end_time": "2020-01-15T17:26:08.075038Z",
     "start_time": "2020-01-15T17:26:08.065067Z"
    }
   },
   "outputs": [
    {
     "data": {
      "text/plain": [
       "tensor(0.0375, device='cuda:0', grad_fn=<SumBackward0>)"
      ]
     },
     "execution_count": 33,
     "metadata": {},
     "output_type": "execute_result"
    }
   ],
   "source": [
    "(predictions[1][2] - predictions[1][4]).abs().sum()"
   ]
  },
  {
   "cell_type": "markdown",
   "metadata": {},
   "source": [
    "## 8.2\n",
    "Once you have done that, we want you to redesign a network where you remove to reinjection link (grey arrow on the drawing). You can remove the both from your choice just try and tell us if it's still working and why."
   ]
  },
  {
   "cell_type": "code",
   "execution_count": 10,
   "metadata": {
    "ExecuteTime": {
     "end_time": "2020-01-15T15:58:52.723780Z",
     "start_time": "2020-01-15T15:58:52.718793Z"
    }
   },
   "outputs": [],
   "source": [
    "#TODO"
   ]
  },
  {
   "cell_type": "markdown",
   "metadata": {},
   "source": [
    "## 8.3 BONUSTOCOME"
   ]
  },
  {
   "cell_type": "code",
   "execution_count": null,
   "metadata": {},
   "outputs": [],
   "source": []
  }
 ],
 "metadata": {
  "kernelspec": {
   "display_name": "Python 3",
   "language": "python",
   "name": "python3"
  },
  "language_info": {
   "codemirror_mode": {
    "name": "ipython",
    "version": 3
   },
   "file_extension": ".py",
   "mimetype": "text/x-python",
   "name": "python",
   "nbconvert_exporter": "python",
   "pygments_lexer": "ipython3",
   "version": "3.7.4"
  }
 },
 "nbformat": 4,
 "nbformat_minor": 2
}
